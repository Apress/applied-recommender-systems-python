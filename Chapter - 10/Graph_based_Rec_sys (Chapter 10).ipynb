{
 "cells": [
  {
   "cell_type": "markdown",
   "metadata": {
    "id": "gJj4YsmfFjMR"
   },
   "source": [
    "**Installing required libraries**"
   ]
  },
  {
   "cell_type": "code",
   "execution_count": null,
   "metadata": {
    "colab": {
     "base_uri": "https://localhost:8080/"
    },
    "id": "2uXQWKnlp7Uy",
    "outputId": "63f70534-1f34-4fd9-c83c-7c49547876f7"
   },
   "outputs": [
    {
     "name": "stdout",
     "output_type": "stream",
     "text": [
      "Collecting py2neo\n",
      "  Downloading py2neo-2021.2.3-py2.py3-none-any.whl (177 kB)\n",
      "\u001b[?25l\r",
      "\u001b[K     |█▉                              | 10 kB 19.7 MB/s eta 0:00:01\r",
      "\u001b[K     |███▊                            | 20 kB 8.0 MB/s eta 0:00:01\r",
      "\u001b[K     |█████▌                          | 30 kB 5.1 MB/s eta 0:00:01\r",
      "\u001b[K     |███████▍                        | 40 kB 4.8 MB/s eta 0:00:01\r",
      "\u001b[K     |█████████▎                      | 51 kB 4.4 MB/s eta 0:00:01\r",
      "\u001b[K     |███████████                     | 61 kB 4.7 MB/s eta 0:00:01\r",
      "\u001b[K     |█████████████                   | 71 kB 4.7 MB/s eta 0:00:01\r",
      "\u001b[K     |██████████████▉                 | 81 kB 5.2 MB/s eta 0:00:01\r",
      "\u001b[K     |████████████████▋               | 92 kB 5.2 MB/s eta 0:00:01\r",
      "\u001b[K     |██████████████████▌             | 102 kB 5.1 MB/s eta 0:00:01\r",
      "\u001b[K     |████████████████████▍           | 112 kB 5.1 MB/s eta 0:00:01\r",
      "\u001b[K     |██████████████████████▏         | 122 kB 5.1 MB/s eta 0:00:01\r",
      "\u001b[K     |████████████████████████        | 133 kB 5.1 MB/s eta 0:00:01\r",
      "\u001b[K     |██████████████████████████      | 143 kB 5.1 MB/s eta 0:00:01\r",
      "\u001b[K     |███████████████████████████▊    | 153 kB 5.1 MB/s eta 0:00:01\r",
      "\u001b[K     |█████████████████████████████▋  | 163 kB 5.1 MB/s eta 0:00:01\r",
      "\u001b[K     |███████████████████████████████▌| 174 kB 5.1 MB/s eta 0:00:01\r",
      "\u001b[K     |████████████████████████████████| 177 kB 5.1 MB/s \n",
      "\u001b[?25hRequirement already satisfied: pygments>=2.0.0 in /usr/local/lib/python3.7/dist-packages (from py2neo) (2.6.1)\n",
      "Requirement already satisfied: certifi in /usr/local/lib/python3.7/dist-packages (from py2neo) (2021.10.8)\n",
      "Collecting interchange~=2021.0.4\n",
      "  Downloading interchange-2021.0.4-py2.py3-none-any.whl (28 kB)\n",
      "Collecting pansi>=2020.7.3\n",
      "  Downloading pansi-2020.7.3-py2.py3-none-any.whl (10 kB)\n",
      "Requirement already satisfied: urllib3 in /usr/local/lib/python3.7/dist-packages (from py2neo) (1.24.3)\n",
      "Requirement already satisfied: six>=1.15.0 in /usr/local/lib/python3.7/dist-packages (from py2neo) (1.15.0)\n",
      "Collecting monotonic\n",
      "  Downloading monotonic-1.6-py2.py3-none-any.whl (8.2 kB)\n",
      "Requirement already satisfied: packaging in /usr/local/lib/python3.7/dist-packages (from py2neo) (21.3)\n",
      "Requirement already satisfied: pytz in /usr/local/lib/python3.7/dist-packages (from interchange~=2021.0.4->py2neo) (2018.9)\n",
      "Requirement already satisfied: pyparsing!=3.0.5,>=2.0.2 in /usr/local/lib/python3.7/dist-packages (from packaging->py2neo) (3.0.7)\n",
      "Installing collected packages: pansi, monotonic, interchange, py2neo\n",
      "Successfully installed interchange-2021.0.4 monotonic-1.6 pansi-2020.7.3 py2neo-2021.2.3\n"
     ]
    }
   ],
   "source": [
    "!pip install py2neo"
   ]
  },
  {
   "cell_type": "code",
   "execution_count": null,
   "metadata": {
    "colab": {
     "base_uri": "https://localhost:8080/"
    },
    "id": "Oh9Mz4JGrqfA",
    "outputId": "36b32fb0-d7e4-4921-d62a-440fd5cd4cd4"
   },
   "outputs": [
    {
     "name": "stdout",
     "output_type": "stream",
     "text": [
      "Requirement already satisfied: openpyxl in /usr/local/lib/python3.7/dist-packages (3.0.9)\n",
      "Requirement already satisfied: et-xmlfile in /usr/local/lib/python3.7/dist-packages (from openpyxl) (1.1.0)\n"
     ]
    }
   ],
   "source": [
    "!pip install openpyxl --upgrade"
   ]
  },
  {
   "cell_type": "code",
   "execution_count": null,
   "metadata": {
    "colab": {
     "base_uri": "https://localhost:8080/"
    },
    "id": "kAkE4IzRqY8R",
    "outputId": "81f21d4c-2c01-4f24-c1e9-69daf76be956"
   },
   "outputs": [
    {
     "name": "stdout",
     "output_type": "stream",
     "text": [
      "Collecting neo4j\n",
      "  Downloading neo4j-4.4.1.tar.gz (89 kB)\n",
      "\u001b[?25l\r",
      "\u001b[K     |███▊                            | 10 kB 17.1 MB/s eta 0:00:01\r",
      "\u001b[K     |███████▍                        | 20 kB 12.9 MB/s eta 0:00:01\r",
      "\u001b[K     |███████████                     | 30 kB 9.8 MB/s eta 0:00:01\r",
      "\u001b[K     |██████████████▊                 | 40 kB 8.9 MB/s eta 0:00:01\r",
      "\u001b[K     |██████████████████▍             | 51 kB 5.3 MB/s eta 0:00:01\r",
      "\u001b[K     |██████████████████████          | 61 kB 5.9 MB/s eta 0:00:01\r",
      "\u001b[K     |█████████████████████████▊      | 71 kB 5.8 MB/s eta 0:00:01\r",
      "\u001b[K     |█████████████████████████████▍  | 81 kB 6.4 MB/s eta 0:00:01\r",
      "\u001b[K     |████████████████████████████████| 89 kB 3.6 MB/s \n",
      "\u001b[?25hRequirement already satisfied: pytz in /usr/local/lib/python3.7/dist-packages (from neo4j) (2018.9)\n",
      "Building wheels for collected packages: neo4j\n",
      "  Building wheel for neo4j (setup.py) ... \u001b[?25l\u001b[?25hdone\n",
      "  Created wheel for neo4j: filename=neo4j-4.4.1-py3-none-any.whl size=114783 sha256=40ae01c64a976931c7a1267b068deb7a375d68b29001d383170bfa9ae252f01a\n",
      "  Stored in directory: /root/.cache/pip/wheels/fd/15/02/8379f87426cd1b74fd5891f49df9fb978423feb97650cd639b\n",
      "Successfully built neo4j\n",
      "Installing collected packages: neo4j\n",
      "Successfully installed neo4j-4.4.1\n"
     ]
    }
   ],
   "source": [
    "!pip install neo4j"
   ]
  },
  {
   "cell_type": "code",
   "execution_count": null,
   "metadata": {
    "colab": {
     "base_uri": "https://localhost:8080/"
    },
    "id": "OErgsIQT-1lR",
    "outputId": "efcfce6e-5fe5-4f2e-b3a1-aa79d9caf50d"
   },
   "outputs": [
    {
     "name": "stdout",
     "output_type": "stream",
     "text": [
      "Collecting neo4jupyter\n",
      "  Downloading neo4jupyter-0.2.0.tar.gz (3.8 kB)\n",
      "Requirement already satisfied: IPython>=4.0.0 in /usr/local/lib/python3.7/dist-packages (from neo4jupyter) (5.5.0)\n",
      "Collecting ipython-cypher>=0.2.4\n",
      "  Downloading ipython-cypher-0.2.6.tar.gz (13 kB)\n",
      "Requirement already satisfied: py2neo in /usr/local/lib/python3.7/dist-packages (from neo4jupyter) (2021.2.3)\n",
      "Requirement already satisfied: pickleshare in /usr/local/lib/python3.7/dist-packages (from IPython>=4.0.0->neo4jupyter) (0.7.5)\n",
      "Requirement already satisfied: pygments in /usr/local/lib/python3.7/dist-packages (from IPython>=4.0.0->neo4jupyter) (2.6.1)\n",
      "Requirement already satisfied: decorator in /usr/local/lib/python3.7/dist-packages (from IPython>=4.0.0->neo4jupyter) (4.4.2)\n",
      "Requirement already satisfied: setuptools>=18.5 in /usr/local/lib/python3.7/dist-packages (from IPython>=4.0.0->neo4jupyter) (57.4.0)\n",
      "Requirement already satisfied: prompt-toolkit<2.0.0,>=1.0.4 in /usr/local/lib/python3.7/dist-packages (from IPython>=4.0.0->neo4jupyter) (1.0.18)\n",
      "Requirement already satisfied: traitlets>=4.2 in /usr/local/lib/python3.7/dist-packages (from IPython>=4.0.0->neo4jupyter) (5.1.1)\n",
      "Requirement already satisfied: simplegeneric>0.8 in /usr/local/lib/python3.7/dist-packages (from IPython>=4.0.0->neo4jupyter) (0.8.1)\n",
      "Requirement already satisfied: pexpect in /usr/local/lib/python3.7/dist-packages (from IPython>=4.0.0->neo4jupyter) (4.8.0)\n",
      "Collecting neo4jrestclient>=2.1.0\n",
      "  Downloading neo4jrestclient-2.1.1.tar.gz (73 kB)\n",
      "\u001b[K     |████████████████████████████████| 73 kB 1.1 MB/s \n",
      "\u001b[?25hRequirement already satisfied: prettytable in /usr/local/lib/python3.7/dist-packages (from ipython-cypher>=0.2.4->neo4jupyter) (3.0.0)\n",
      "Requirement already satisfied: requests>=2.1.0 in /usr/local/lib/python3.7/dist-packages (from neo4jrestclient>=2.1.0->ipython-cypher>=0.2.4->neo4jupyter) (2.23.0)\n",
      "Requirement already satisfied: wcwidth in /usr/local/lib/python3.7/dist-packages (from prompt-toolkit<2.0.0,>=1.0.4->IPython>=4.0.0->neo4jupyter) (0.2.5)\n",
      "Requirement already satisfied: six>=1.9.0 in /usr/local/lib/python3.7/dist-packages (from prompt-toolkit<2.0.0,>=1.0.4->IPython>=4.0.0->neo4jupyter) (1.15.0)\n",
      "Requirement already satisfied: chardet<4,>=3.0.2 in /usr/local/lib/python3.7/dist-packages (from requests>=2.1.0->neo4jrestclient>=2.1.0->ipython-cypher>=0.2.4->neo4jupyter) (3.0.4)\n",
      "Requirement already satisfied: urllib3!=1.25.0,!=1.25.1,<1.26,>=1.21.1 in /usr/local/lib/python3.7/dist-packages (from requests>=2.1.0->neo4jrestclient>=2.1.0->ipython-cypher>=0.2.4->neo4jupyter) (1.24.3)\n",
      "Requirement already satisfied: certifi>=2017.4.17 in /usr/local/lib/python3.7/dist-packages (from requests>=2.1.0->neo4jrestclient>=2.1.0->ipython-cypher>=0.2.4->neo4jupyter) (2021.10.8)\n",
      "Requirement already satisfied: idna<3,>=2.5 in /usr/local/lib/python3.7/dist-packages (from requests>=2.1.0->neo4jrestclient>=2.1.0->ipython-cypher>=0.2.4->neo4jupyter) (2.10)\n",
      "Requirement already satisfied: ptyprocess>=0.5 in /usr/local/lib/python3.7/dist-packages (from pexpect->IPython>=4.0.0->neo4jupyter) (0.7.0)\n",
      "Requirement already satisfied: importlib-metadata in /usr/local/lib/python3.7/dist-packages (from prettytable->ipython-cypher>=0.2.4->neo4jupyter) (4.10.1)\n",
      "Requirement already satisfied: typing-extensions>=3.6.4 in /usr/local/lib/python3.7/dist-packages (from importlib-metadata->prettytable->ipython-cypher>=0.2.4->neo4jupyter) (3.10.0.2)\n",
      "Requirement already satisfied: zipp>=0.5 in /usr/local/lib/python3.7/dist-packages (from importlib-metadata->prettytable->ipython-cypher>=0.2.4->neo4jupyter) (3.7.0)\n",
      "Requirement already satisfied: interchange~=2021.0.4 in /usr/local/lib/python3.7/dist-packages (from py2neo->neo4jupyter) (2021.0.4)\n",
      "Requirement already satisfied: monotonic in /usr/local/lib/python3.7/dist-packages (from py2neo->neo4jupyter) (1.6)\n",
      "Requirement already satisfied: packaging in /usr/local/lib/python3.7/dist-packages (from py2neo->neo4jupyter) (21.3)\n",
      "Requirement already satisfied: pansi>=2020.7.3 in /usr/local/lib/python3.7/dist-packages (from py2neo->neo4jupyter) (2020.7.3)\n",
      "Requirement already satisfied: pytz in /usr/local/lib/python3.7/dist-packages (from interchange~=2021.0.4->py2neo->neo4jupyter) (2018.9)\n",
      "Requirement already satisfied: pyparsing!=3.0.5,>=2.0.2 in /usr/local/lib/python3.7/dist-packages (from packaging->py2neo->neo4jupyter) (3.0.7)\n",
      "Building wheels for collected packages: neo4jupyter, ipython-cypher, neo4jrestclient\n",
      "  Building wheel for neo4jupyter (setup.py) ... \u001b[?25l\u001b[?25hdone\n",
      "  Created wheel for neo4jupyter: filename=neo4jupyter-0.2.0-py3-none-any.whl size=3869 sha256=8bd6e4890af8b23ed90abbc49b9e3f5bd012c2449524a9c8de1e069608c25087\n",
      "  Stored in directory: /root/.cache/pip/wheels/98/e6/6e/04e4ab08495bd0e2bfeb0083436a6040c49f262c17d6345b2b\n",
      "  Building wheel for ipython-cypher (setup.py) ... \u001b[?25l\u001b[?25hdone\n",
      "  Created wheel for ipython-cypher: filename=ipython_cypher-0.2.6-py3-none-any.whl size=13272 sha256=380f8d345cfceae16ea74a053367d06ca17bfa9156c755c97ac6b0041a2b1285\n",
      "  Stored in directory: /root/.cache/pip/wheels/d9/ff/09/e790f902f0013f5479cf2b9288013d2b36f41da1877c7d4df2\n",
      "  Building wheel for neo4jrestclient (setup.py) ... \u001b[?25l\u001b[?25hdone\n",
      "  Created wheel for neo4jrestclient: filename=neo4jrestclient-2.1.1-py2.py3-none-any.whl size=78563 sha256=281a3a93f3f7b213af3d1df2e839c26ff5ec79ccd03be5bbdbc9a6282e4a51fa\n",
      "  Stored in directory: /root/.cache/pip/wheels/4d/39/cd/03fa156cb423361fa55a1f69d711d152eb6f3ce902a324059e\n",
      "Successfully built neo4jupyter ipython-cypher neo4jrestclient\n",
      "Installing collected packages: neo4jrestclient, ipython-cypher, neo4jupyter\n",
      "Successfully installed ipython-cypher-0.2.6 neo4jrestclient-2.1.1 neo4jupyter-0.2.0\n"
     ]
    }
   ],
   "source": [
    "!pip install neo4jupyter"
   ]
  },
  {
   "cell_type": "markdown",
   "metadata": {
    "id": "t85mjGthFn2k"
   },
   "source": [
    "**Importing Required Libraries**"
   ]
  },
  {
   "cell_type": "code",
   "execution_count": null,
   "metadata": {
    "id": "s1hL_XSVqzCc"
   },
   "outputs": [],
   "source": [
    "import pandas as pd\n",
    "\n",
    "from neo4j import GraphDatabase, basic_auth\n",
    "from py2neo import Graph\n",
    "\n",
    "import re\n",
    "\n",
    "import neo4jupyter"
   ]
  },
  {
   "cell_type": "markdown",
   "metadata": {
    "id": "c6n16laxG0Oz"
   },
   "source": [
    "**Establishing a connection between our Neo4j database and python notebook**"
   ]
  },
  {
   "cell_type": "code",
   "execution_count": null,
   "metadata": {
    "id": "gf_XWZyWX4SO"
   },
   "outputs": [],
   "source": [
    "g = Graph(\"bolt://34.201.241.51:7687\", password = \"whirls-bullet-boils\")"
   ]
  },
  {
   "cell_type": "code",
   "execution_count": null,
   "metadata": {
    "id": "QHubXhyINdaB"
   },
   "outputs": [],
   "source": [
    "driver = GraphDatabase.driver(\n",
    "  \"bolt://34.201.241.51:7687\",\n",
    "  auth=basic_auth(\"neo4j\", \"whirls-bullet-boils\"))\n",
    "\n",
    "# The uri \"bolt://34.201.241.51:7687\" needs to be replaced in case of new sandbox creation in neo4j.\n",
    "# The credentials \"neo4j\" and \"whirls-bullet-boils\" also need replacement for each use case."
   ]
  },
  {
   "cell_type": "code",
   "execution_count": null,
   "metadata": {
    "id": "LmWW4dpMIJSP"
   },
   "outputs": [],
   "source": [
    "def execute_transactions(transaction_execution_commands):\n",
    "    # Establishing connection with database\n",
    "    data_base_connection = GraphDatabase.driver( \"bolt://34.201.241.51:7687\",\n",
    "  auth=basic_auth(\"neo4j\", \"whirls-bullet-boils\"))\n",
    "    # Creating a session\n",
    "    session = data_base_connection.session()    \n",
    "    for i in transaction_execution_commands:\n",
    "        session.run(i)"
   ]
  },
  {
   "cell_type": "markdown",
   "metadata": {
    "id": "UV2izztlGMFf"
   },
   "source": [
    "**Loading the datasets**"
   ]
  },
  {
   "cell_type": "code",
   "execution_count": null,
   "metadata": {
    "id": "4ibNZ7PxqsEl"
   },
   "outputs": [],
   "source": [
    "# This dataset consists of transactions which will be used to establish relationship between the customer and the stock.\n",
    "df = pd.read_excel(r'Rec_sys_data-1.xlsx')"
   ]
  },
  {
   "cell_type": "code",
   "execution_count": null,
   "metadata": {
    "id": "9ierhqFbzxzW"
   },
   "outputs": [],
   "source": [
    "# Little bit of preprocessing so that we can easily run NoSQL queries.\n",
    "df['CustomerID'] = df['CustomerID'].apply(str)"
   ]
  },
  {
   "cell_type": "code",
   "execution_count": null,
   "metadata": {
    "id": "welDIq7-o5zc"
   },
   "outputs": [],
   "source": [
    "# This dataset contains detailed information about each stock which will be used to link stockcodes and their description/title. \n",
    "df1 = pd.read_excel('Rec_sys_data-1.xlsx','product')"
   ]
  },
  {
   "cell_type": "code",
   "execution_count": null,
   "metadata": {
    "colab": {
     "base_uri": "https://localhost:8080/",
     "height": 354
    },
    "id": "7tA-sEOmq7nH",
    "outputId": "ab7af65d-5843-49f6-b5c0-6eb667b3146a"
   },
   "outputs": [
    {
     "data": {
      "text/html": [
       "\n",
       "  <div id=\"df-1aab0ed0-fdc4-4983-8491-73b6ec52969d\">\n",
       "    <div class=\"colab-df-container\">\n",
       "      <div>\n",
       "<style scoped>\n",
       "    .dataframe tbody tr th:only-of-type {\n",
       "        vertical-align: middle;\n",
       "    }\n",
       "\n",
       "    .dataframe tbody tr th {\n",
       "        vertical-align: top;\n",
       "    }\n",
       "\n",
       "    .dataframe thead th {\n",
       "        text-align: right;\n",
       "    }\n",
       "</style>\n",
       "<table border=\"1\" class=\"dataframe\">\n",
       "  <thead>\n",
       "    <tr style=\"text-align: right;\">\n",
       "      <th></th>\n",
       "      <th>StockCode</th>\n",
       "      <th>Product Name</th>\n",
       "      <th>Description</th>\n",
       "      <th>Category</th>\n",
       "      <th>Brand</th>\n",
       "      <th>Unit Price</th>\n",
       "    </tr>\n",
       "  </thead>\n",
       "  <tbody>\n",
       "    <tr>\n",
       "      <th>0</th>\n",
       "      <td>22629</td>\n",
       "      <td>Ganma Superheroes Ordinary Life Case For Samsu...</td>\n",
       "      <td>New unique design, great gift.High quality pla...</td>\n",
       "      <td>Cell Phones|Cellphone Accessories|Cases &amp; Prot...</td>\n",
       "      <td>Ganma</td>\n",
       "      <td>13.99</td>\n",
       "    </tr>\n",
       "    <tr>\n",
       "      <th>1</th>\n",
       "      <td>21238</td>\n",
       "      <td>Eye Buy Express Prescription Glasses Mens Wome...</td>\n",
       "      <td>Rounded rectangular cat-eye reading glasses. T...</td>\n",
       "      <td>Health|Home Health Care|Daily Living Aids</td>\n",
       "      <td>Eye Buy Express</td>\n",
       "      <td>19.22</td>\n",
       "    </tr>\n",
       "    <tr>\n",
       "      <th>2</th>\n",
       "      <td>22181</td>\n",
       "      <td>MightySkins Skin Decal Wrap Compatible with Ni...</td>\n",
       "      <td>Each Nintendo 2DS kit is printed with super-hi...</td>\n",
       "      <td>Video Games|Video Game Accessories|Accessories...</td>\n",
       "      <td>Mightyskins</td>\n",
       "      <td>14.99</td>\n",
       "    </tr>\n",
       "    <tr>\n",
       "      <th>3</th>\n",
       "      <td>84879</td>\n",
       "      <td>Mediven Sheer and Soft 15-20 mmHg Thigh w/ Lac...</td>\n",
       "      <td>The sheerest compression stocking in its class...</td>\n",
       "      <td>Health|Medicine Cabinet|Braces &amp; Supports</td>\n",
       "      <td>Medi</td>\n",
       "      <td>62.38</td>\n",
       "    </tr>\n",
       "    <tr>\n",
       "      <th>4</th>\n",
       "      <td>84836</td>\n",
       "      <td>Stupell Industries Chevron Initial Wall D cor</td>\n",
       "      <td>Features: -Made in the USA. -Sawtooth hanger o...</td>\n",
       "      <td>Home Improvement|Paint|Wall Decals|All Wall De...</td>\n",
       "      <td>Stupell Industries</td>\n",
       "      <td>35.99</td>\n",
       "    </tr>\n",
       "  </tbody>\n",
       "</table>\n",
       "</div>\n",
       "      <button class=\"colab-df-convert\" onclick=\"convertToInteractive('df-1aab0ed0-fdc4-4983-8491-73b6ec52969d')\"\n",
       "              title=\"Convert this dataframe to an interactive table.\"\n",
       "              style=\"display:none;\">\n",
       "        \n",
       "  <svg xmlns=\"http://www.w3.org/2000/svg\" height=\"24px\"viewBox=\"0 0 24 24\"\n",
       "       width=\"24px\">\n",
       "    <path d=\"M0 0h24v24H0V0z\" fill=\"none\"/>\n",
       "    <path d=\"M18.56 5.44l.94 2.06.94-2.06 2.06-.94-2.06-.94-.94-2.06-.94 2.06-2.06.94zm-11 1L8.5 8.5l.94-2.06 2.06-.94-2.06-.94L8.5 2.5l-.94 2.06-2.06.94zm10 10l.94 2.06.94-2.06 2.06-.94-2.06-.94-.94-2.06-.94 2.06-2.06.94z\"/><path d=\"M17.41 7.96l-1.37-1.37c-.4-.4-.92-.59-1.43-.59-.52 0-1.04.2-1.43.59L10.3 9.45l-7.72 7.72c-.78.78-.78 2.05 0 2.83L4 21.41c.39.39.9.59 1.41.59.51 0 1.02-.2 1.41-.59l7.78-7.78 2.81-2.81c.8-.78.8-2.07 0-2.86zM5.41 20L4 18.59l7.72-7.72 1.47 1.35L5.41 20z\"/>\n",
       "  </svg>\n",
       "      </button>\n",
       "      \n",
       "  <style>\n",
       "    .colab-df-container {\n",
       "      display:flex;\n",
       "      flex-wrap:wrap;\n",
       "      gap: 12px;\n",
       "    }\n",
       "\n",
       "    .colab-df-convert {\n",
       "      background-color: #E8F0FE;\n",
       "      border: none;\n",
       "      border-radius: 50%;\n",
       "      cursor: pointer;\n",
       "      display: none;\n",
       "      fill: #1967D2;\n",
       "      height: 32px;\n",
       "      padding: 0 0 0 0;\n",
       "      width: 32px;\n",
       "    }\n",
       "\n",
       "    .colab-df-convert:hover {\n",
       "      background-color: #E2EBFA;\n",
       "      box-shadow: 0px 1px 2px rgba(60, 64, 67, 0.3), 0px 1px 3px 1px rgba(60, 64, 67, 0.15);\n",
       "      fill: #174EA6;\n",
       "    }\n",
       "\n",
       "    [theme=dark] .colab-df-convert {\n",
       "      background-color: #3B4455;\n",
       "      fill: #D2E3FC;\n",
       "    }\n",
       "\n",
       "    [theme=dark] .colab-df-convert:hover {\n",
       "      background-color: #434B5C;\n",
       "      box-shadow: 0px 1px 3px 1px rgba(0, 0, 0, 0.15);\n",
       "      filter: drop-shadow(0px 1px 2px rgba(0, 0, 0, 0.3));\n",
       "      fill: #FFFFFF;\n",
       "    }\n",
       "  </style>\n",
       "\n",
       "      <script>\n",
       "        const buttonEl =\n",
       "          document.querySelector('#df-1aab0ed0-fdc4-4983-8491-73b6ec52969d button.colab-df-convert');\n",
       "        buttonEl.style.display =\n",
       "          google.colab.kernel.accessAllowed ? 'block' : 'none';\n",
       "\n",
       "        async function convertToInteractive(key) {\n",
       "          const element = document.querySelector('#df-1aab0ed0-fdc4-4983-8491-73b6ec52969d');\n",
       "          const dataTable =\n",
       "            await google.colab.kernel.invokeFunction('convertToInteractive',\n",
       "                                                     [key], {});\n",
       "          if (!dataTable) return;\n",
       "\n",
       "          const docLinkHtml = 'Like what you see? Visit the ' +\n",
       "            '<a target=\"_blank\" href=https://colab.research.google.com/notebooks/data_table.ipynb>data table notebook</a>'\n",
       "            + ' to learn more about interactive tables.';\n",
       "          element.innerHTML = '';\n",
       "          dataTable['output_type'] = 'display_data';\n",
       "          await google.colab.output.renderOutput(dataTable, element);\n",
       "          const docLink = document.createElement('div');\n",
       "          docLink.innerHTML = docLinkHtml;\n",
       "          element.appendChild(docLink);\n",
       "        }\n",
       "      </script>\n",
       "    </div>\n",
       "  </div>\n",
       "  "
      ],
      "text/plain": [
       "  StockCode  ... Unit Price\n",
       "0     22629  ...      13.99\n",
       "1     21238  ...      19.22\n",
       "2     22181  ...      14.99\n",
       "3     84879  ...      62.38\n",
       "4     84836  ...      35.99\n",
       "\n",
       "[5 rows x 6 columns]"
      ]
     },
     "execution_count": 18,
     "metadata": {},
     "output_type": "execute_result"
    }
   ],
   "source": [
    "df1.head()"
   ]
  },
  {
   "cell_type": "markdown",
   "metadata": {
    "id": "pUltg57aPzmP"
   },
   "source": [
    "**Uploading the entities in Neo4J Database**"
   ]
  },
  {
   "cell_type": "markdown",
   "metadata": {
    "id": "bmWA9TruQZoV"
   },
   "source": [
    "To implement knowledge graphs in Neo4J we need to convert the dataframe into Relational Database. For this, we need to convert customers and stocks into entities (or nodes of a graph) and build a relation between them."
   ]
  },
  {
   "cell_type": "code",
   "execution_count": null,
   "metadata": {
    "id": "dI5S_HhzGiVU"
   },
   "outputs": [],
   "source": [
    "# creating a list of all unique customer IDs \n",
    "customerids = df['CustomerID'].unique().tolist()\n",
    "\n",
    "# storing all the create commands to be executed into create_customers list\n",
    "create_customers = []\n",
    "\n",
    "for i in customerids:\n",
    "  # example of create statement \"create (n:entity {property_key : '12345'})\" \n",
    "  statement = \"create (c:customer{cid:\"+ '\"' + str(i) + '\"' +\"})\"\n",
    "  create_customers.append(statement)\n",
    "\n",
    "# running all the queries into neo4j to create customer entities\n",
    "execute_transactions(create_customers)"
   ]
  },
  {
   "cell_type": "markdown",
   "metadata": {
    "id": "b9rkehYfQp9K"
   },
   "source": [
    "Once we are done with customer nodes, we need to create nodes for stocks as well."
   ]
  },
  {
   "cell_type": "code",
   "execution_count": null,
   "metadata": {
    "id": "JO10R9GbGiY9"
   },
   "outputs": [],
   "source": [
    "# creating a lit of all unique stockcodes\n",
    "stockcodes = df['StockCode'].unique().tolist()\n",
    "\n",
    "# storing all the create commands to be executed into the create_stockcodes list\n",
    "create_stockcodes = []\n",
    "\n",
    "for i in stockcodes:\n",
    "  # example of create statement \"create (m:entity {property_key : 'XYZ'})\"\n",
    "  statement = \"create (s:stock{stockcode:\"+ '\"' + str(i) + '\"' +\"})\"\n",
    "  create_stockcodes.append(statement)\n",
    "\n",
    "# running all the queries into neo4j to create stock entities\n",
    "execute_transactions(create_stockcodes)"
   ]
  },
  {
   "cell_type": "markdown",
   "metadata": {
    "id": "_LIzS0izRPxB"
   },
   "source": [
    "Once we are done creating nodes for customers and stocks, we need to create a link between stockcodes and title which will be needed to recommend items.\n"
   ]
  },
  {
   "cell_type": "markdown",
   "metadata": {
    "id": "jnrkyaPQR1oq"
   },
   "source": [
    "For this we will create another property key called as 'title' into the stock entity already present in our neo4j database."
   ]
  },
  {
   "cell_type": "code",
   "execution_count": null,
   "metadata": {
    "id": "AUFPEIlEqxnP"
   },
   "outputs": [],
   "source": [
    "# creating a blank dataframe\n",
    "df2 = pd.DataFrame(columns = ['StockCode', 'Title'])"
   ]
  },
  {
   "cell_type": "code",
   "execution_count": null,
   "metadata": {
    "id": "vdireF1Enj3H"
   },
   "outputs": [],
   "source": [
    "# This cell of code will add all the unique stockcodes along with their title in df2\n",
    "stockcodes = df['StockCode'].unique().tolist()\n",
    "\n",
    "for i in range(len(stockcodes)):\n",
    "  df2['StockCode'][i] = stockcodes[i]\n",
    "  df2['Title'][i] = df1[df1['StockCode']==stockcodes[i]]['Product Name'].values"
   ]
  },
  {
   "cell_type": "code",
   "execution_count": null,
   "metadata": {
    "id": "3dt9dyDHvlaG"
   },
   "outputs": [],
   "source": [
    "# Doing some data preprocessing such that these queries can be run in neo4j\n",
    "df2['Title'] = df2['Title'].apply(str)\n",
    "df2['Title'] = df2['Title'].map(lambda x: re.sub(r'\\W+', ' ', x))\n",
    "df2['Title'] = df2['Title'].apply(str)"
   ]
  },
  {
   "cell_type": "code",
   "execution_count": null,
   "metadata": {
    "id": "K2tx_F9yr-QD"
   },
   "outputs": [],
   "source": [
    "# This query will add the 'title' property key to each stock entity in our neo4j database\n",
    "for i in range(len(df2)):\n",
    "  query = \"\"\"\n",
    "  MATCH (s:stock {stockcode:\"\"\" + '\"' + str(df2['StockCode'][i]) + '\"' + \"\"\"})\n",
    "  SET s.title =\"\"\"+ '\"' + str(df2['Title'][i]) + '\"' + \"\"\"\n",
    "  RETURN s.stockcode, s.title\n",
    "  \"\"\"\n",
    "\n",
    "  g.run(query)"
   ]
  },
  {
   "cell_type": "markdown",
   "metadata": {
    "id": "zOMos-MFSQuN"
   },
   "source": [
    "**Creating relation between customers and stocks**"
   ]
  },
  {
   "cell_type": "markdown",
   "metadata": {
    "id": "WTV4hhWRSW8N"
   },
   "source": [
    "Since we have all the transactions in our dataset, the relation is already known and present. But since we have to convert it into a RDS, we have to run cypher queries in neo4j to build this relationship."
   ]
  },
  {
   "cell_type": "code",
   "execution_count": null,
   "metadata": {
    "id": "iJSZzIO2N25H"
   },
   "outputs": [],
   "source": [
    "# Storing transaction values in a list\n",
    "transaction_list = df.values.tolist()\n",
    "\n",
    "# storing all commands to build relationship in an empty list relation\n",
    "relation = []\n",
    "\n",
    "for i in transaction_list:\n",
    "  # the 9th column in df is customerID and 2nd column is stockcode which we are appending in the statement\n",
    "  statement = \"\"\"MATCH (a:customer),(b:stock) WHERE a.cid = \"\"\"+'\"' + str(i[8])+ '\"' + \"\"\" AND b.stockcode = \"\"\" + '\"' + str(i[1]) + '\"' + \"\"\" CREATE (a)-[:bought]->(b) \"\"\"\n",
    "  relation.append(statement)"
   ]
  },
  {
   "cell_type": "code",
   "execution_count": null,
   "metadata": {
    "id": "hmeP4aVYN5qW"
   },
   "outputs": [],
   "source": [
    "execute_transactions(relation)"
   ]
  },
  {
   "cell_type": "markdown",
   "metadata": {
    "id": "zb0O0P_IS74S"
   },
   "source": [
    "**Finding similarity between users using the relationship created**"
   ]
  },
  {
   "cell_type": "code",
   "execution_count": null,
   "metadata": {
    "id": "9sOPOb2_4EoV"
   },
   "outputs": [],
   "source": [
    "def similar_users(id) : \n",
    "  # This query will find users who have bought stocks in common with the customer having id specified by user \n",
    "  # Later we will find jaccard index for each of them \n",
    "  # We wil return the neighbors sorted by jaccard index in descending order\n",
    "  query = \"\"\"\n",
    "  MATCH (c1:customer)-[:bought]->(s:stock)<-[:bought]-(c2:customer)\n",
    "  WHERE c1 <> c2 AND c1.cid =\"\"\" + '\"' + str(id) +'\"' \"\"\"\n",
    "  WITH c1, c2, COUNT(DISTINCT s) as intersection\n",
    "  MATCH (c:customer)-[:bought]->(s:stock)\n",
    "  WHERE c in [c1, c2]\n",
    "  WITH c1, c2, intersection, COUNT(DISTINCT s) as union\n",
    "  WITH c1, c2, intersection, union, (intersection * 1.0 / union) as jaccard_index\n",
    "  ORDER BY jaccard_index DESC, c2.cid\n",
    "  WITH c1, COLLECT([c2.cid, jaccard_index, intersection, union])[0..15] as neighbors\n",
    "  WHERE SIZE(neighbors) = 15   // return users with enough neighbors\n",
    "  RETURN c1.cid as customer, neighbors\n",
    "  \n",
    "  \"\"\"\n",
    "  neighbors = pd.DataFrame([['CustomerID','JaccardIndex','Intersection','Union']])\n",
    "  for i in g.run(query).data():\n",
    "    neighbors = neighbors.append(i[\"neighbors\"])\n",
    "  \n",
    "  print(\"\\n----------- customer's 15 nearest neighbors ---------\\n\")\n",
    "  print(neighbors)\n",
    "  "
   ]
  },
  {
   "cell_type": "markdown",
   "metadata": {
    "id": "ZOEu9a4uTcq5"
   },
   "source": [
    "*Sample Outputs*"
   ]
  },
  {
   "cell_type": "code",
   "execution_count": null,
   "metadata": {
    "colab": {
     "base_uri": "https://localhost:8080/"
    },
    "id": "OJmygmDo4XJ-",
    "outputId": "231a2607-e3df-4179-9414-73bdf8a57c9a"
   },
   "outputs": [
    {
     "name": "stdout",
     "output_type": "stream",
     "text": [
      "\n",
      "----------- customer's 15 nearest neighbors ---------\n",
      "\n",
      "             0             1             2      3\n",
      "0   CustomerID  JaccardIndex  Intersection  Union\n",
      "0        17396      0.111111            10     90\n",
      "1        13821      0.108333            13    120\n",
      "2        17097      0.107784            18    167\n",
      "3        13324      0.103093            10     97\n",
      "4        15658      0.099099            11    111\n",
      "5        15606      0.097345            11    113\n",
      "6        16389       0.09375             9     96\n",
      "7        18092      0.092784             9     97\n",
      "8        13814      0.091743            10    109\n",
      "9        13265       0.08871            11    124\n",
      "10       13488      0.087248            26    298\n",
      "11       12843      0.086957            12    138\n",
      "12       16618      0.086207            10    116\n",
      "13       15502      0.084821            19    224\n",
      "14       17722       0.08427            15    178\n"
     ]
    }
   ],
   "source": [
    "similar_users('12347')"
   ]
  },
  {
   "cell_type": "code",
   "execution_count": null,
   "metadata": {
    "colab": {
     "base_uri": "https://localhost:8080/"
    },
    "id": "mDXr_a94v1Xa",
    "outputId": "3dbc1e8c-f077-439f-9c0a-7f782c11feab"
   },
   "outputs": [
    {
     "name": "stdout",
     "output_type": "stream",
     "text": [
      "\n",
      "----------- customer's 15 nearest neighbors ---------\n",
      "\n",
      "             0             1             2      3\n",
      "0   CustomerID  JaccardIndex  Intersection  Union\n",
      "0        15356      0.131098            43    328\n",
      "1        18231      0.126531            31    245\n",
      "2        14395      0.125436            36    287\n",
      "3        15856      0.124668            47    377\n",
      "4        16907      0.124424            27    217\n",
      "5        17787      0.123404            29    235\n",
      "6        15059       0.11236            30    267\n",
      "7        13344       0.11215            24    214\n",
      "8        16222      0.111111            29    261\n",
      "9        17085      0.108949            28    257\n",
      "10       17450       0.10687            28    262\n",
      "11       17865      0.106796            33    309\n",
      "12       16910      0.106061            35    330\n",
      "13       16549      0.105919            34    321\n",
      "14       13263      0.105155            51    485\n"
     ]
    }
   ],
   "source": [
    "similar_users(17975)"
   ]
  },
  {
   "cell_type": "code",
   "execution_count": null,
   "metadata": {
    "colab": {
     "base_uri": "https://localhost:8080/"
    },
    "id": "TignS9T_4h2J",
    "outputId": "5b9bf097-47a0-40f1-e565-57fdf512a39b"
   },
   "outputs": [
    {
     "name": "stdout",
     "output_type": "stream",
     "text": [
      "\n",
      "----------- customer's 15 nearest neighbors ---------\n",
      "\n",
      "             0             1             2      3\n",
      "0   CustomerID  JaccardIndex  Intersection  Union\n",
      "0        15319      0.148936             7     47\n",
      "1        15124      0.146341             6     41\n",
      "2        13706      0.137255             7     51\n",
      "3        15985      0.135593             8     59\n",
      "4        12842      0.130435             6     46\n",
      "5        14226      0.130435             9     69\n",
      "6        14651      0.127907            11     86\n",
      "7        14959      0.126984             8     63\n",
      "8        13900      0.126761             9     71\n",
      "9        16989         0.125             5     40\n",
      "10       14209      0.121951            10     82\n",
      "11       16721      0.119403             8     67\n",
      "12       15076      0.115385             9     78\n",
      "13       15643      0.112903             7     62\n",
      "14       15681      0.111111             6     54\n"
     ]
    }
   ],
   "source": [
    "similar_users(16359)"
   ]
  },
  {
   "cell_type": "code",
   "execution_count": null,
   "metadata": {
    "colab": {
     "base_uri": "https://localhost:8080/"
    },
    "id": "zuuLuFr8582q",
    "outputId": "f703b679-efae-4ee3-b92c-0de26c2cbad8"
   },
   "outputs": [
    {
     "name": "stdout",
     "output_type": "stream",
     "text": [
      "\n",
      "----------- customer's 15 nearest neighbors ---------\n",
      "\n",
      "             0             1             2      3\n",
      "0   CustomerID  JaccardIndex  Intersection  Union\n",
      "0        13551           0.2             2     10\n",
      "1        16566      0.133333             2     15\n",
      "2        12917      0.111111             1      9\n",
      "3        13967      0.111111             1      9\n",
      "4        14332      0.111111             1      9\n",
      "5        15442      0.111111             1      9\n",
      "6        17483      0.105263             2     19\n",
      "7        13217           0.1             1     10\n",
      "8        17384           0.1             1     10\n",
      "9        16526      0.095238             2     21\n",
      "10       17854      0.095238             2     21\n",
      "11       15160      0.090909             1     11\n",
      "12       13207      0.083333             1     12\n",
      "13       18032      0.083333             1     12\n",
      "14       13805      0.076923             1     13\n"
     ]
    }
   ],
   "source": [
    "similar_users(17867)"
   ]
  },
  {
   "cell_type": "markdown",
   "metadata": {
    "id": "pGfezPCeTvWB"
   },
   "source": [
    "**Recommending items based on the similar users**"
   ]
  },
  {
   "cell_type": "code",
   "execution_count": null,
   "metadata": {
    "id": "c7j5iDHy6Ate"
   },
   "outputs": [],
   "source": [
    "def recommend(id):\n",
    "  # The query below is same as similar_users function\n",
    "  # It will return the most similar customers\n",
    "  query1 = \"\"\"\n",
    "  MATCH (c1:customer)-[:bought]->(s:stock)<-[:bought]-(c2:customer)\n",
    "  WHERE c1 <> c2 AND c1.cid =\"\"\" + '\"' + str(id) +'\"' \"\"\"\n",
    "  WITH c1, c2, COUNT(DISTINCT s) as intersection\n",
    "  MATCH (c:customer)-[:bought]->(s:stock)\n",
    "  WHERE c in [c1, c2]\n",
    "  WITH c1, c2, intersection, COUNT(DISTINCT s) as union\n",
    "  WITH c1, c2, intersection, union, (intersection * 1.0 / union) as jaccard_index\n",
    "  ORDER BY jaccard_index DESC, c2.cid\n",
    "  WITH c1, COLLECT([c2.cid, jaccard_index, intersection, union])[0..15] as neighbors\n",
    "  WHERE SIZE(neighbors) = 15   // return users with enough neighbors\n",
    "  RETURN c1.cid as customer, neighbors\n",
    "  \n",
    "  \"\"\"\n",
    "  neighbors = pd.DataFrame([['CustomerID','JaccardIndex','Intersection','Union']])\n",
    "  neighbors_list = {}\n",
    "  for i in g.run(query1).data():\n",
    "    neighbors = neighbors.append(i[\"neighbors\"])\n",
    "    neighbors_list[i[\"customer\"]] = i[\"neighbors\"]\n",
    "    print(neighbors_list)\n",
    "    \n",
    "  # From the neighbors_list returned, we will fetch the customer ids of those neighbors to recommend items\n",
    "  nearest_neighbors = [neighbors_list[id][i][0] for i in range(len(neighbors_list[id]))]\n",
    "\n",
    "  # The below query will fetch all the items boughts by nearest neighbors\n",
    "  # We will remove the items which have been already bought by the target customer\n",
    "  # Now from the filtered set of items, we will count how many times each item is repeating within the shopping carts of nearest neighbors\n",
    "  # We will sort that list on count of repititions and return in descending order\n",
    "  query2 = \"\"\"\n",
    "        // get top n recommendations for customer from their nearest neighbors\n",
    "        MATCH (c1:customer),(neighbor:customer)-[:bought]->(s:stock)    // all items bought by neighbors\n",
    "        WHERE c1.cid = \"\"\" + '\"' + str(id) + '\"' \"\"\" \n",
    "          AND neighbor.cid in $nearest_neighbors\n",
    "          AND not (c1)-[:bought]->(s)                    // filter for items that our user hasn't bought before\n",
    "        \n",
    "        WITH c1, s, COUNT(DISTINCT neighbor) as countnns // times bought by nearest neighbors\n",
    "        ORDER BY c1.cid, countnns DESC               \n",
    "        RETURN c1.cid as customer, COLLECT([s.title, s.stockcode, countnns])[0..$n] as recommendations  \n",
    "        \"\"\"\n",
    "\n",
    "  recommendations = pd.DataFrame([['Title','StockCode','Number of times bought by neighbors']])\n",
    "  for i in g.run(query2, id = id, nearest_neighbors = nearest_neighbors, n = 5).data():\n",
    "    #recommendations[i[\"customer\"]] = i[\"recommendations\"]\n",
    "    recommendations = recommendations.append(i[\"recommendations\"])\n",
    "\n",
    "\n",
    "  # We will also print the items bought earlier by the target customer\n",
    "  print(\" \\n---------- Top 8 StockCodes bought by customer \" + str(id) + \" -----------\\n\")\n",
    "  \n",
    "  print(df[df['CustomerID']==id][['CustomerID','StockCode','Quantity']].nlargest(8,'Quantity'))\n",
    "\n",
    "  bought = df[df['CustomerID']==id][['CustomerID','StockCode','Quantity']].nlargest(8,'Quantity')\n",
    "\n",
    "  print('\\n-------Product Name of bought StockCodes ------\\n')\n",
    "\n",
    "  print((df1[df1.StockCode.isin(bought.StockCode)]['Product Name']).to_string())\n",
    "\n",
    "  # Here we will print the recommendations\n",
    "  print(\"------------ \\n Recommendations for Customer {} ------- \\n\".format(id))\n",
    "  print(recommendations.to_string())\n"
   ]
  },
  {
   "cell_type": "code",
   "execution_count": null,
   "metadata": {
    "colab": {
     "base_uri": "https://localhost:8080/"
    },
    "id": "Utd7CM0JjdR_",
    "outputId": "20a74279-3de8-49c6-cfe2-aa19c88a797f"
   },
   "outputs": [
    {
     "name": "stdout",
     "output_type": "stream",
     "text": [
      "{'17850': [['15497', 0.14814814814814814, 4, 27], ['17169', 0.14705882352941177, 5, 34], ['18170', 0.14285714285714285, 6, 42], ['15636', 0.1388888888888889, 5, 36], ['13187', 0.13725490196078433, 7, 51], ['15722', 0.1276595744680851, 6, 47], ['15482', 0.11764705882352941, 4, 34], ['13161', 0.11538461538461539, 3, 26], ['14035', 0.11428571428571428, 4, 35], ['17866', 0.1111111111111111, 3, 27], ['13884', 0.10714285714285714, 6, 56], ['14440', 0.10638297872340426, 5, 47], ['12747', 0.1, 5, 50], ['17742', 0.0967741935483871, 3, 31], ['14163', 0.09615384615384616, 5, 52]]}\n",
      " \n",
      "---------- Top 8 StockCodes bought by customer 17850 -----------\n",
      "\n",
      "     CustomerID StockCode  Quantity\n",
      "285       17850    82494L        12\n",
      "2629      17850    85123A        12\n",
      "2634      17850     71053        12\n",
      "2978      17850     71053        12\n",
      "2983      17850    85123A        12\n",
      "3299      17850     71053        12\n",
      "3301      17850     21068        12\n",
      "3302      17850    84029G        12\n",
      "\n",
      "-------Product Name of bought StockCodes ------\n",
      "\n",
      "135    Mediven Sheer and Soft 15-20 mmHg Thigh w/ Lac...\n",
      "162    Heavy Duty Handlebar Motorcycle Mount Holder K...\n",
      "179           AARCO Enclosed Wall Mounted Bulletin Board\n",
      "669    3 1/2\"W x 20\"D x 20\"H Funston Craftsman Smooth...\n",
      "967    Awkward Styles Shamrock Flag St. Patrick's Day...\n",
      "------------ \n",
      " Recommendations for Customer 17850 ------- \n",
      "\n",
      "                                                                                                         0          1                                    2\n",
      "0                                                                                                    Title  StockCode  Number of times bought by neighbors\n",
      "0                         Puppy Apparel Clothes Clothing Dog Sweatshirt Pullover Coat Hoodie Gift for Pet       21754                                    5\n",
      "1        Mediven Sheer and Soft 15 20 mmHg Thigh w Lace Silicone Top Band CT Wheat II Ankle 8 8 75 inches       84879                                    5\n",
      "2                                                   The Holiday Aisle LED C7 Faceted Christmas Light Bulb       22470                                    5\n",
      "3        Mediven Sheer and Soft 15 20 mmHg Thigh w Lace Silicone Top Band CT Wheat II Ankle 8 8 75 inches       82484                                    4\n",
      "4   MightySkins Skin Decal Wrap Compatible with Lifeproof Sticker Protective Cover 100 s of Color Options       22469                                    4\n"
     ]
    }
   ],
   "source": [
    "recommend('17850')"
   ]
  },
  {
   "cell_type": "code",
   "execution_count": null,
   "metadata": {
    "colab": {
     "base_uri": "https://localhost:8080/"
    },
    "id": "DHAzY_8jjfGB",
    "outputId": "294d8c8b-7927-4245-b7e4-d960605df2fd"
   },
   "outputs": [
    {
     "name": "stdout",
     "output_type": "stream",
     "text": [
      "{'16359': [['15319', 0.14893617021276595, 7, 47], ['15124', 0.14634146341463414, 6, 41], ['13706', 0.13725490196078433, 7, 51], ['15985', 0.13559322033898305, 8, 59], ['12842', 0.13043478260869565, 6, 46], ['14226', 0.13043478260869565, 9, 69], ['14651', 0.12790697674418605, 11, 86], ['14959', 0.12698412698412698, 8, 63], ['13900', 0.1267605633802817, 9, 71], ['16989', 0.125, 5, 40], ['14209', 0.12195121951219512, 10, 82], ['16721', 0.11940298507462686, 8, 67], ['15076', 0.11538461538461539, 9, 78], ['15643', 0.11290322580645161, 7, 62], ['15681', 0.1111111111111111, 6, 54]]}\n",
      " \n",
      "---------- Top 8 StockCodes bought by customer 16359 -----------\n",
      "\n",
      "       CustomerID StockCode  Quantity\n",
      "161089      16359     84836       120\n",
      "232132      16359     84836        72\n",
      "101750      16359     84836        60\n",
      "124252      16359     84836        60\n",
      "53524       16359    16169M        50\n",
      "75394       16359     84836        48\n",
      "33114       16359     84836        36\n",
      "53526       16359     84836        36\n",
      "\n",
      "-------Product Name of bought StockCodes ------\n",
      "\n",
      "4         Stupell Industries Chevron Initial Wall D cor\n",
      "3046    Harriton Ladies' 4.2 oz. Athletic Sport T-Shirt\n",
      "------------ \n",
      " Recommendations for Customer 16359 ------- \n",
      "\n",
      "                                                                                                        0          1                                    2\n",
      "0                                                                                                   Title  StockCode  Number of times bought by neighbors\n",
      "0                                            Men s 1ct Diamond Ring In 14K Rose Gold I J K I1 I2 Size 10       21136                                    4\n",
      "1        1 30 Carat ctw 14K White Gold Round Diamond Ladies 3 Stone Bridal Engagement Ring Set With Band       22961                                    4\n",
      "2       Mediven Sheer and Soft 15 20 mmHg Thigh w Lace Silicone Top Band CT Wheat II Ankle 8 8 75 inches      85123A                                    3\n",
      "3                                                             2019 Minecraft Bilingual FRE Wall Calendar       22855                                    3\n",
      "4   MightySkins Skin Decal Wrap Compatible with Nintendo Sticker Protective Cover 100 s of Color Options       21755                                    3\n"
     ]
    }
   ],
   "source": [
    "recommend(\"16359\")"
   ]
  },
  {
   "cell_type": "code",
   "execution_count": null,
   "metadata": {
    "colab": {
     "base_uri": "https://localhost:8080/"
    },
    "id": "T_HIUNBpmgBJ",
    "outputId": "09854097-960c-4a0c-84fa-e7bb3b23b0ff"
   },
   "outputs": [
    {
     "name": "stdout",
     "output_type": "stream",
     "text": [
      "{'17867': [['13551', 0.2, 2, 10], ['16566', 0.13333333333333333, 2, 15], ['12917', 0.1111111111111111, 1, 9], ['13967', 0.1111111111111111, 1, 9], ['14332', 0.1111111111111111, 1, 9], ['15442', 0.1111111111111111, 1, 9], ['17483', 0.10526315789473684, 2, 19], ['13217', 0.1, 1, 10], ['17384', 0.1, 1, 10], ['16526', 0.09523809523809523, 2, 21], ['17854', 0.09523809523809523, 2, 21], ['15160', 0.09090909090909091, 1, 11], ['13207', 0.08333333333333333, 1, 12], ['18032', 0.08333333333333333, 1, 12], ['13805', 0.07692307692307693, 1, 13]]}\n",
      " \n",
      "---------- Top 8 StockCodes bought by customer 17867 -----------\n",
      "\n",
      "       CustomerID StockCode  Quantity\n",
      "137223      17867    18097C       288\n",
      "188192      17867     23109        42\n",
      "188161      17867     85103        37\n",
      "64167       17867     21633         2\n",
      "188162      17867    15056N         2\n",
      "137222      17867     21631         1\n",
      "137224      17867    72351B         1\n",
      "137225      17867    47599A         1\n",
      "\n",
      "-------Product Name of bought StockCodes ------\n",
      "\n",
      "89                Window Tint Film Chevy (back doors) DIY\n",
      "261     PeanutsÃƒâ€šÃ‚ Valentine Sign Craft Kit (Pack ...\n",
      "371     Urbane Urbane Classic Crossover Scrub Top Scru...\n",
      "902                \"Soccer\" Vinyl Graphic - Large - Ivory\n",
      "1591    Handcrafted Ercolano Music Box Featuring \"Lunc...\n",
      "2513    Mediven Sheer and Soft 15-20 mmHg Thigh w/ Lac...\n",
      "2739    Edwards Garment Women's Two Pockets Chino Blen...\n",
      "3069    MightySkins Skin Decal Wrap Compatible with HP...\n",
      "------------ \n",
      " Recommendations for Customer 17867 ------- \n",
      "\n",
      "                                                                                                    0          1                                    2\n",
      "0                                                                                               Title  StockCode  Number of times bought by neighbors\n",
      "0                                                Urbane Urbane Classic Crossover Scrub Top Scrub Top       84946                                    3\n",
      "1                                        1 5 Flexo Remix PET Expandable Braided Sleeving Jungle 40FT      47599B                                    2\n",
      "2                                              MLS Vancouver Whitecaps Women s Middle Logo Scarf Tee     15056BL                                    2\n",
      "3                                       Port Authority K110 Dry Zone UV Micro Mesh Polo Gusty Grey S       47566                                    2\n",
      "4   Mediven Sheer and Soft 15 20 mmHg Thigh w Lace Silicone Top Band CT Wheat II Ankle 8 8 75 inches      85123A                                    2\n"
     ]
    }
   ],
   "source": [
    "recommend(\"17867\")"
   ]
  },
  {
   "cell_type": "code",
   "execution_count": null,
   "metadata": {
    "colab": {
     "base_uri": "https://localhost:8080/"
    },
    "id": "Anx7EhN5mhzU",
    "outputId": "a2b3b004-704e-4745-db04-010f76a3448f"
   },
   "outputs": [
    {
     "name": "stdout",
     "output_type": "stream",
     "text": [
      "{'12347': [['17396', 0.1111111111111111, 10, 90], ['13821', 0.10833333333333334, 13, 120], ['17097', 0.10778443113772455, 18, 167], ['13324', 0.10309278350515463, 10, 97], ['15658', 0.0990990990990991, 11, 111], ['15606', 0.09734513274336283, 11, 113], ['16389', 0.09375, 9, 96], ['18092', 0.09278350515463918, 9, 97], ['13814', 0.09174311926605505, 10, 109], ['13265', 0.08870967741935484, 11, 124], ['13488', 0.087248322147651, 26, 298], ['12843', 0.08695652173913043, 12, 138], ['16618', 0.08620689655172414, 10, 116], ['15502', 0.08482142857142858, 19, 224], ['17722', 0.08426966292134831, 15, 178]]}\n",
      " \n",
      "---------- Top 8 StockCodes bought by customer 12347 -----------\n",
      "\n",
      "       CustomerID StockCode  Quantity\n",
      "99443       12347     23076       240\n",
      "10526       12347     22492        36\n",
      "99444       12347     22492        36\n",
      "153949      12347     17021        36\n",
      "200488      12347    84558A        36\n",
      "10527       12347    85167B        30\n",
      "10534       12347    84558A        24\n",
      "43446       12347     84991        24\n",
      "\n",
      "-------Product Name of bought StockCodes ------\n",
      "\n",
      "33           Rosalind Wheeler Wall Mounted Bulletin Board\n",
      "447     Eye Buy Express Kids Childrens Reading Glasses...\n",
      "782     6pc Boy Formal Necktie Black & White Suit Set ...\n",
      "1607    3 1/2\"W x 32\"D x 36\"H Traditional Arts & Craft...\n",
      "1820        Fruit of the Loom T-Shirts HD Cotton Tank Top\n",
      "2668    Vickerman 14\" Finial Drop Christmas Ornaments,...\n",
      "------------ \n",
      " Recommendations for Customer 12347 ------- \n",
      "\n",
      "                                                                                                                                                               0          1                                    2\n",
      "0                                                                                                                                                          Title  StockCode  Number of times bought by neighbors\n",
      "0                                              Handcrafted Ercolano Music Box Featuring Luncheon of the Boating Party by Renoir Pierre Auguste New YorkNew York       22697                                    8\n",
      "1                                                                                                                     Window Tint Film Mitsubishi all doors DIY       22698                                    8\n",
      "2   Girls Dress Up Kids Crafts Hair Kit With Hair Makes 10 Unique Hair Accessories Assortment of Kids Fashion Headbands Craft Kit Perfect Beauty Shop Play Date       22427                                    6\n",
      "3                                                               Elite Series Counter Height Storage Cabinet with Adjustable Shelves 46 W x 24 D x 42 H Charcoal       23245                                    6\n",
      "4                                                                                                  Port Authority K110 Dry Zone UV Micro Mesh Polo Gusty Grey S       47566                                    5\n"
     ]
    }
   ],
   "source": [
    "recommend(\"12347\")"
   ]
  }
 ],
 "metadata": {
  "colab": {
   "collapsed_sections": [],
   "name": "Copy_of_neo4j (2).ipynb",
   "provenance": []
  },
  "kernelspec": {
   "display_name": "Python 3 (ipykernel)",
   "language": "python",
   "name": "python3"
  },
  "language_info": {
   "codemirror_mode": {
    "name": "ipython",
    "version": 3
   },
   "file_extension": ".py",
   "mimetype": "text/x-python",
   "name": "python",
   "nbconvert_exporter": "python",
   "pygments_lexer": "ipython3",
   "version": "3.9.7"
  }
 },
 "nbformat": 4,
 "nbformat_minor": 1
}
